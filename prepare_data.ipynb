{
 "cells": [
  {
   "cell_type": "code",
   "execution_count": 22,
   "metadata": {},
   "outputs": [],
   "source": [
    "#import libraries\n",
    "import pandas as pd\n",
    "\n",
    "#read dataset\n",
    "df = pd.read_csv('dataset/extern_dataset/republican_democrat.csv')"
   ]
  },
  {
   "cell_type": "code",
   "execution_count": 23,
   "metadata": {},
   "outputs": [
    {
     "name": "stdout",
     "output_type": "stream",
     "text": [
      "<class 'pandas.core.frame.DataFrame'>\n",
      "RangeIndex: 415 entries, 0 to 414\n",
      "Data columns (total 15 columns):\n",
      " #   Column                                  Non-Null Count  Dtype \n",
      "---  ------                                  --------------  ----- \n",
      " 0   handicapped-infants                     415 non-null    object\n",
      " 1   water-project-cost-sharing              415 non-null    object\n",
      " 2   adoption-of-the-budget-resolution       415 non-null    object\n",
      " 3   physician-fee-freeze                    415 non-null    object\n",
      " 4   religious-groups-in-schools             415 non-null    object\n",
      " 5   anti-satellite-test-ban                 415 non-null    object\n",
      " 6   mx-missile                              415 non-null    object\n",
      " 7   immigration                             415 non-null    object\n",
      " 8   synfuels-corporation-cutback            415 non-null    object\n",
      " 9   education-spending                      415 non-null    object\n",
      " 10  superfund-right-to-sue                  415 non-null    object\n",
      " 11  crime                                   415 non-null    object\n",
      " 12  duty-free-exports                       415 non-null    object\n",
      " 13  export-administration-act-south-africa  415 non-null    object\n",
      " 14  Target                                  415 non-null    object\n",
      "dtypes: object(15)\n",
      "memory usage: 48.8+ KB\n"
     ]
    }
   ],
   "source": [
    "#Substitute ? for 2, because don't vote yes or no is a behavior that can give us information\n",
    "df.replace('?','2',inplace = True)\n",
    "df.replace('y','1',inplace = True)\n",
    "df.replace('n','0',inplace = True)\n",
    "\n",
    "#look at missing values\n",
    "df.info()"
   ]
  },
  {
   "cell_type": "code",
   "execution_count": 24,
   "metadata": {},
   "outputs": [],
   "source": [
    "#export dataframe\n",
    "df.to_csv('dataset/final_dataset/republican_democract.csv')"
   ]
  }
 ],
 "metadata": {
  "interpreter": {
   "hash": "dd3106f17cb3399392c4dccb9a8c82bd3788e8313257aff6101ca648ee8f14a6"
  },
  "kernelspec": {
   "display_name": "Python 3.9.7 ('base')",
   "language": "python",
   "name": "python3"
  },
  "language_info": {
   "codemirror_mode": {
    "name": "ipython",
    "version": 3
   },
   "file_extension": ".py",
   "mimetype": "text/x-python",
   "name": "python",
   "nbconvert_exporter": "python",
   "pygments_lexer": "ipython3",
   "version": "3.9.7"
  },
  "orig_nbformat": 4
 },
 "nbformat": 4,
 "nbformat_minor": 2
}
