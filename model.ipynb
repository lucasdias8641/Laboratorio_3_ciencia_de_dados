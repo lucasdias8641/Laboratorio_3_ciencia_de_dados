{
 "cells": [
  {
   "cell_type": "code",
   "execution_count": 29,
   "metadata": {},
   "outputs": [],
   "source": [
    "#import libraries\n",
    "import pandas as pd\n",
    "\n",
    "#import dataframe\n",
    "df = pd.read_csv('dataset/final_dataset/republican_democract.csv',index_col = 0)\n",
    "\n",
    "#Define x and y\n",
    "x = df.iloc[:,:-1].applymap(lambda x: float(x))\n",
    "y = df.iloc[:,-1]"
   ]
  },
  {
   "cell_type": "markdown",
   "metadata": {},
   "source": [
    "<p style = \"font-size: 30px\";>\n",
    "    <b>\n",
    "    Naive Bayes from sklearn\n",
    "    </b>\n",
    "</p>"
   ]
  },
  {
   "cell_type": "code",
   "execution_count": 30,
   "metadata": {},
   "outputs": [],
   "source": [
    "from sklearn.naive_bayes import GaussianNB\n",
    "from sklearn.naive_bayes import CategoricalNB\n",
    "from sklearn.model_selection import RepeatedStratifiedKFold\n",
    "from sklearn.model_selection import cross_validate\n",
    "from sklearn.metrics import make_scorer\n",
    "from sklearn.metrics import cohen_kappa_score\n",
    "\n",
    "#We will evaluate the perfomance of this two alghoritims\n",
    "sk_naive = [GaussianNB(),CategoricalNB()]\n",
    "\n",
    "#Define the method of crossvalidation\n",
    "crossvalidatin_method = RepeatedStratifiedKFold(n_splits = 10, n_repeats = 3, random_state = 2)\n",
    "\n",
    "#Define the metrics that we will evaluate\n",
    "metrics = {'kappa': make_scorer(cohen_kappa_score), 'accuracy': 'accuracy', 'roc_auc': 'roc_auc'}\n",
    "scores = []\n",
    "\n",
    "for i in range(2):\n",
    "    scores.append(cross_validate(sk_naive[i],x,y,cv = crossvalidatin_method, scoring = metrics))"
   ]
  },
  {
   "cell_type": "code",
   "execution_count": 31,
   "metadata": {},
   "outputs": [
    {
     "data": {
      "image/png": "[encoded data removed]",
      "text/plain": [
       "<Figure size 864x504 with 1 Axes>"
      ]
     },
     "metadata": {
      "needs_background": "light"
     },
     "output_type": "display_data"
    },
    {
     "name": "stdout",
     "output_type": "stream",
     "text": [
      "GaussianNB accuracy: 0.935      CategoricalNB accuracy: 0.9\n",
      "GaussianNB kappa: 0.861      CategoricalNB kappa: 0.79\n",
      "GaussianNB roc_auc: 0.975      CategoricalNB roc_auc: 0.976\n"
     ]
    }
   ],
   "source": [
    "#Visualize the results in a boxplot result\n",
    "import matplotlib.pyplot  as plt\n",
    "plt.figure(figsize=(12,7))\n",
    "plt.boxplot([scores[0]['test_kappa'],scores[1]['test_kappa'],scores[0]['test_accuracy'],scores[1]['test_accuracy']],\\\n",
    "    labels = ['GaussianNB kappa','CategoricalNB kappa','GaussianNB accuracy','CategoricalNB accuracy'])\n",
    "plt.show()\n",
    "print(f'GaussianNB accuracy: {round((scores[0][\"test_accuracy\"]).mean(),3)}\\\n",
    "      CategoricalNB accuracy: {round(scores[1][\"test_accuracy\"].mean(),3)}')\n",
    "print(f'GaussianNB kappa: {round((scores[0][\"test_kappa\"]).mean(),3)}\\\n",
    "      CategoricalNB kappa: {round(scores[1][\"test_kappa\"].mean(),3)}')\n",
    "print(f'GaussianNB roc_auc: {round((scores[0][\"test_roc_auc\"]).mean(),3)}\\\n",
    "      CategoricalNB roc_auc: {round(scores[1][\"test_roc_auc\"].mean(),3)}')"
   ]
  },
  {
   "cell_type": "markdown",
   "metadata": {},
   "source": [
    "<p style = \"font-size: 18px;font-family: Times New Roman\";>\n",
    "    <b>\n",
    "    With this results we realize that GaussianNB is better, \n",
    "    because the results are more concentrated in high values of accuracy and kappa, \n",
    "    even tough the roc_auc of the two models is very similar   \n",
    "    </b>\n",
    "</p>"
   ]
  },
  {
   "cell_type": "markdown",
   "metadata": {},
   "source": [
    "<p style = \"font-size: 30px\";>\n",
    "    <b>\n",
    "    Naive Bayes implementation  \n",
    "    </b>\n",
    "</p>"
   ]
  },
  {
   "cell_type": "code",
   "execution_count": 32,
   "metadata": {},
   "outputs": [],
   "source": [
    "import naive_bayes as nb\n",
    "\n",
    "#Define the method of crossvalidation\n",
    "crossvalidatin_method = RepeatedStratifiedKFold(n_splits = 10, n_repeats = 3, random_state = 2)\n",
    "\n",
    "#Define the metrics that we will evaluate\n",
    "metrics = {'kappa': make_scorer(cohen_kappa_score), 'accuracy': 'accuracy', 'roc_auc': 'roc_auc_ovr'}\n",
    "\n",
    "scores = cross_validate(nb.NAIVE_BAYES(),x,y,cv = crossvalidatin_method, scoring = metrics)"
   ]
  },
  {
   "cell_type": "code",
   "execution_count": 33,
   "metadata": {},
   "outputs": [
    {
     "data": {
      "image/png": "[encoded data removed]",
      "text/plain": [
       "<Figure size 864x504 with 1 Axes>"
      ]
     },
     "metadata": {
      "needs_background": "light"
     },
     "output_type": "display_data"
    },
    {
     "name": "stdout",
     "output_type": "stream",
     "text": [
      "NB implementation accuracy: 0.9\n",
      "NB implementation kappa: 0.79\n",
      "NB implementation roc_auc: 0.976\n"
     ]
    }
   ],
   "source": [
    "#Visualize the results in a boxplot result\n",
    "import matplotlib.pyplot  as plt\n",
    "plt.figure(figsize=(12,7))\n",
    "plt.boxplot([scores['test_kappa'],scores['test_accuracy']],\\\n",
    "    labels = ['NB implementation kappa','NB implementation accuracy'])\n",
    "plt.show()\n",
    "print(f'NB implementation accuracy: {round((scores[\"test_accuracy\"]).mean(),3)}')\n",
    "print(f'NB implementation kappa: {round((scores[\"test_kappa\"]).mean(),3)}')\n",
    "print(f'NB implementation roc_auc: {round((scores[\"test_roc_auc\"]).mean(),3)}')"
   ]
  },
  {
   "cell_type": "markdown",
   "metadata": {},
   "source": [
    "List of the most probable people to be a republicans"
   ]
  },
  {
   "cell_type": "code",
   "execution_count": 34,
   "metadata": {},
   "outputs": [],
   "source": [
    "#We realize that the naive bayes implementation is the same as CateoricalNB, so we will chose GaussianNB\n",
    "#Now we will test this in the test dataset to confirm that the model is not overfitted\n",
    "\n",
    "#read dataframe\n",
    "#import dataframe\n",
    "df = pd.read_csv('dataset/extern_dataset/republican_democrat_test.csv')\n",
    "\n",
    "#Substitute ? for 2, because don't vote yes or no is a behavior that can give us information\n",
    "df.replace('?','2',inplace = True)\n",
    "df.replace('y','1',inplace = True)\n",
    "df.replace('n','0',inplace = True)\n",
    "\n",
    "#Define x and y\n",
    "x_test = df.iloc[:,:-1].applymap(lambda x: float(x))\n",
    "ids = df.iloc[:,-1]"
   ]
  },
  {
   "cell_type": "code",
   "execution_count": 54,
   "metadata": {},
   "outputs": [
    {
     "name": "stdout",
     "output_type": "stream",
     "text": [
      "['democrat' 'republican']\n"
     ]
    }
   ],
   "source": [
    "#Predict the classes\n",
    "model = GaussianNB()\n",
    "model.fit(x,y)\n",
    "print(model.classes_)\n",
    "probabilities = model.predict_proba(x_test)"
   ]
  },
  {
   "cell_type": "code",
   "execution_count": 85,
   "metadata": {},
   "outputs": [
    {
     "data": {
      "text/plain": [
       "[(108, 0.9999998865168218),\n",
       " (112, 0.9999994432616344),\n",
       " (118, 0.9999978904488869),\n",
       " (110, 0.999997453668902),\n",
       " (106, 0.9999952820316976),\n",
       " (102, 0.9999199408981886),\n",
       " (116, 0.9970256469762652),\n",
       " (114, 0.9618487853304232),\n",
       " (104, 0.9214835989387702),\n",
       " (120, 0.5898662320498493),\n",
       " (113, 1.7195221374685625e-10),\n",
       " (111, 8.422560106112002e-11),\n",
       " (107, 7.996017414644628e-12),\n",
       " (109, 1.400788507524783e-14),\n",
       " (115, 1.0107683007028984e-14),\n",
       " (119, 7.884924766509166e-15),\n",
       " (101, 9.171648745190714e-16),\n",
       " (105, 9.171648745190714e-16),\n",
       " (103, 2.822452824547276e-16),\n",
       " (117, 2.6130260509026704e-16)]"
      ]
     },
     "execution_count": 85,
     "metadata": {},
     "output_type": "execute_result"
    }
   ],
   "source": [
    "#create a dict\n",
    "ids_proba = dict()\n",
    "for id,probability in zip(ids,probabilities):\n",
    "    ids_proba[id] = probability[1]\n",
    "\n",
    "#sort the vector\n",
    "sort_ids = sorted(ids_proba.items(), key = lambda x: x[1], reverse=True)\n",
    "sort_ids"
   ]
  }
 ],
 "metadata": {
  "interpreter": {
   "hash": "dd3106f17cb3399392c4dccb9a8c82bd3788e8313257aff6101ca648ee8f14a6"
  },
  "kernelspec": {
   "display_name": "Python 3.9.7 ('base')",
   "language": "python",
   "name": "python3"
  },
  "language_info": {
   "codemirror_mode": {
    "name": "ipython",
    "version": 3
   },
   "file_extension": ".py",
   "mimetype": "text/x-python",
   "name": "python",
   "nbconvert_exporter": "python",
   "pygments_lexer": "ipython3",
   "version": "3.9.7"
  },
  "orig_nbformat": 4
 },
 "nbformat": 4,
 "nbformat_minor": 2
}
